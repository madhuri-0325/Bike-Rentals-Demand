{
 "cells": [
  {
   "cell_type": "markdown",
   "id": "94c0b059",
   "metadata": {},
   "source": [
    "#### Business Problem: The bike-sharing company is facing challenges in aligning its bike availability with fluctuating rental demand. Inefficient distribution of bikes can lead to high customer wait times at popular stations or overstocking at less frequented locations. To enhance operational efficiency, the company seeks to predict bike rental demand with high accuracy. By forecasting demand, the company can optimize bike distribution, ensure timely availability at high-demand locations, and reduce operational costs associated with imbalances in bike inventory. Ultimately, improved demand predictions can lead to increased customer satisfaction and higher utilization rates. \n",
    "\n",
    "\n",
    "#### Case Study: Predicting Bike Rental Demand Objective: Develop a robust predictive model to forecast bike rental demand by leveraging historical data. The model should address missing data, employ sophisticated feature engineering techniques, and rigorously evaluate performance. The goal is to generate actionable insights for optimizing bike distribution and improving service levels across the bike-sharing network."
   ]
  },
  {
   "cell_type": "code",
   "execution_count": 1,
   "id": "4c5af826",
   "metadata": {},
   "outputs": [],
   "source": [
    "import numpy as np\n",
    "import pandas as pd\n",
    "import matplotlib.pyplot as plt\n",
    "import seaborn as sns\n",
    "import warnings\n",
    "warnings.filterwarnings('ignore')"
   ]
  },
  {
   "cell_type": "code",
   "execution_count": 99,
   "id": "8a175dd6",
   "metadata": {},
   "outputs": [],
   "source": [
    "df_train=pd.read_csv('train.csv')\n",
    "df_test=pd.read_csv('test.csv')"
   ]
  },
  {
   "cell_type": "code",
   "execution_count": 100,
   "id": "c51f7db6",
   "metadata": {},
   "outputs": [
    {
     "data": {
      "text/html": [
       "<div>\n",
       "<style scoped>\n",
       "    .dataframe tbody tr th:only-of-type {\n",
       "        vertical-align: middle;\n",
       "    }\n",
       "\n",
       "    .dataframe tbody tr th {\n",
       "        vertical-align: top;\n",
       "    }\n",
       "\n",
       "    .dataframe thead th {\n",
       "        text-align: right;\n",
       "    }\n",
       "</style>\n",
       "<table border=\"1\" class=\"dataframe\">\n",
       "  <thead>\n",
       "    <tr style=\"text-align: right;\">\n",
       "      <th></th>\n",
       "      <th>datetime</th>\n",
       "      <th>season</th>\n",
       "      <th>holiday</th>\n",
       "      <th>workingday</th>\n",
       "      <th>weather</th>\n",
       "      <th>temp</th>\n",
       "      <th>atemp</th>\n",
       "      <th>humidity</th>\n",
       "      <th>windspeed</th>\n",
       "      <th>casual</th>\n",
       "      <th>registered</th>\n",
       "      <th>count</th>\n",
       "    </tr>\n",
       "  </thead>\n",
       "  <tbody>\n",
       "    <tr>\n",
       "      <th>0</th>\n",
       "      <td>2011-01-01 00:00:00</td>\n",
       "      <td>1</td>\n",
       "      <td>0</td>\n",
       "      <td>0</td>\n",
       "      <td>1</td>\n",
       "      <td>9.84</td>\n",
       "      <td>14.395</td>\n",
       "      <td>81</td>\n",
       "      <td>0.0</td>\n",
       "      <td>3</td>\n",
       "      <td>13</td>\n",
       "      <td>16</td>\n",
       "    </tr>\n",
       "    <tr>\n",
       "      <th>1</th>\n",
       "      <td>2011-01-01 01:00:00</td>\n",
       "      <td>1</td>\n",
       "      <td>0</td>\n",
       "      <td>0</td>\n",
       "      <td>1</td>\n",
       "      <td>9.02</td>\n",
       "      <td>13.635</td>\n",
       "      <td>80</td>\n",
       "      <td>0.0</td>\n",
       "      <td>8</td>\n",
       "      <td>32</td>\n",
       "      <td>40</td>\n",
       "    </tr>\n",
       "    <tr>\n",
       "      <th>2</th>\n",
       "      <td>2011-01-01 02:00:00</td>\n",
       "      <td>1</td>\n",
       "      <td>0</td>\n",
       "      <td>0</td>\n",
       "      <td>1</td>\n",
       "      <td>9.02</td>\n",
       "      <td>13.635</td>\n",
       "      <td>80</td>\n",
       "      <td>0.0</td>\n",
       "      <td>5</td>\n",
       "      <td>27</td>\n",
       "      <td>32</td>\n",
       "    </tr>\n",
       "    <tr>\n",
       "      <th>3</th>\n",
       "      <td>2011-01-01 03:00:00</td>\n",
       "      <td>1</td>\n",
       "      <td>0</td>\n",
       "      <td>0</td>\n",
       "      <td>1</td>\n",
       "      <td>9.84</td>\n",
       "      <td>14.395</td>\n",
       "      <td>75</td>\n",
       "      <td>0.0</td>\n",
       "      <td>3</td>\n",
       "      <td>10</td>\n",
       "      <td>13</td>\n",
       "    </tr>\n",
       "    <tr>\n",
       "      <th>4</th>\n",
       "      <td>2011-01-01 04:00:00</td>\n",
       "      <td>1</td>\n",
       "      <td>0</td>\n",
       "      <td>0</td>\n",
       "      <td>1</td>\n",
       "      <td>9.84</td>\n",
       "      <td>14.395</td>\n",
       "      <td>75</td>\n",
       "      <td>0.0</td>\n",
       "      <td>0</td>\n",
       "      <td>1</td>\n",
       "      <td>1</td>\n",
       "    </tr>\n",
       "  </tbody>\n",
       "</table>\n",
       "</div>"
      ],
      "text/plain": [
       "              datetime  season  holiday  workingday  weather  temp   atemp  \\\n",
       "0  2011-01-01 00:00:00       1        0           0        1  9.84  14.395   \n",
       "1  2011-01-01 01:00:00       1        0           0        1  9.02  13.635   \n",
       "2  2011-01-01 02:00:00       1        0           0        1  9.02  13.635   \n",
       "3  2011-01-01 03:00:00       1        0           0        1  9.84  14.395   \n",
       "4  2011-01-01 04:00:00       1        0           0        1  9.84  14.395   \n",
       "\n",
       "   humidity  windspeed  casual  registered  count  \n",
       "0        81        0.0       3          13     16  \n",
       "1        80        0.0       8          32     40  \n",
       "2        80        0.0       5          27     32  \n",
       "3        75        0.0       3          10     13  \n",
       "4        75        0.0       0           1      1  "
      ]
     },
     "execution_count": 100,
     "metadata": {},
     "output_type": "execute_result"
    }
   ],
   "source": [
    "df_train.head()"
   ]
  },
  {
   "cell_type": "code",
   "execution_count": 101,
   "id": "b085558d",
   "metadata": {},
   "outputs": [
    {
     "data": {
      "text/html": [
       "<div>\n",
       "<style scoped>\n",
       "    .dataframe tbody tr th:only-of-type {\n",
       "        vertical-align: middle;\n",
       "    }\n",
       "\n",
       "    .dataframe tbody tr th {\n",
       "        vertical-align: top;\n",
       "    }\n",
       "\n",
       "    .dataframe thead th {\n",
       "        text-align: right;\n",
       "    }\n",
       "</style>\n",
       "<table border=\"1\" class=\"dataframe\">\n",
       "  <thead>\n",
       "    <tr style=\"text-align: right;\">\n",
       "      <th></th>\n",
       "      <th>datetime</th>\n",
       "      <th>season</th>\n",
       "      <th>holiday</th>\n",
       "      <th>workingday</th>\n",
       "      <th>weather</th>\n",
       "      <th>temp</th>\n",
       "      <th>atemp</th>\n",
       "      <th>humidity</th>\n",
       "      <th>windspeed</th>\n",
       "    </tr>\n",
       "  </thead>\n",
       "  <tbody>\n",
       "    <tr>\n",
       "      <th>0</th>\n",
       "      <td>2011-01-20 00:00:00</td>\n",
       "      <td>1</td>\n",
       "      <td>0</td>\n",
       "      <td>1</td>\n",
       "      <td>1</td>\n",
       "      <td>10.66</td>\n",
       "      <td>11.365</td>\n",
       "      <td>56</td>\n",
       "      <td>26.0027</td>\n",
       "    </tr>\n",
       "    <tr>\n",
       "      <th>1</th>\n",
       "      <td>2011-01-20 01:00:00</td>\n",
       "      <td>1</td>\n",
       "      <td>0</td>\n",
       "      <td>1</td>\n",
       "      <td>1</td>\n",
       "      <td>10.66</td>\n",
       "      <td>13.635</td>\n",
       "      <td>56</td>\n",
       "      <td>0.0000</td>\n",
       "    </tr>\n",
       "    <tr>\n",
       "      <th>2</th>\n",
       "      <td>2011-01-20 02:00:00</td>\n",
       "      <td>1</td>\n",
       "      <td>0</td>\n",
       "      <td>1</td>\n",
       "      <td>1</td>\n",
       "      <td>10.66</td>\n",
       "      <td>13.635</td>\n",
       "      <td>56</td>\n",
       "      <td>0.0000</td>\n",
       "    </tr>\n",
       "    <tr>\n",
       "      <th>3</th>\n",
       "      <td>2011-01-20 03:00:00</td>\n",
       "      <td>1</td>\n",
       "      <td>0</td>\n",
       "      <td>1</td>\n",
       "      <td>1</td>\n",
       "      <td>10.66</td>\n",
       "      <td>12.880</td>\n",
       "      <td>56</td>\n",
       "      <td>11.0014</td>\n",
       "    </tr>\n",
       "    <tr>\n",
       "      <th>4</th>\n",
       "      <td>2011-01-20 04:00:00</td>\n",
       "      <td>1</td>\n",
       "      <td>0</td>\n",
       "      <td>1</td>\n",
       "      <td>1</td>\n",
       "      <td>10.66</td>\n",
       "      <td>12.880</td>\n",
       "      <td>56</td>\n",
       "      <td>11.0014</td>\n",
       "    </tr>\n",
       "  </tbody>\n",
       "</table>\n",
       "</div>"
      ],
      "text/plain": [
       "              datetime  season  holiday  workingday  weather   temp   atemp  \\\n",
       "0  2011-01-20 00:00:00       1        0           1        1  10.66  11.365   \n",
       "1  2011-01-20 01:00:00       1        0           1        1  10.66  13.635   \n",
       "2  2011-01-20 02:00:00       1        0           1        1  10.66  13.635   \n",
       "3  2011-01-20 03:00:00       1        0           1        1  10.66  12.880   \n",
       "4  2011-01-20 04:00:00       1        0           1        1  10.66  12.880   \n",
       "\n",
       "   humidity  windspeed  \n",
       "0        56    26.0027  \n",
       "1        56     0.0000  \n",
       "2        56     0.0000  \n",
       "3        56    11.0014  \n",
       "4        56    11.0014  "
      ]
     },
     "execution_count": 101,
     "metadata": {},
     "output_type": "execute_result"
    }
   ],
   "source": [
    "df_test.head()"
   ]
  },
  {
   "cell_type": "code",
   "execution_count": 102,
   "id": "fb6f268a",
   "metadata": {},
   "outputs": [
    {
     "name": "stdout",
     "output_type": "stream",
     "text": [
      "(10886, 12)\n",
      "(6493, 9)\n"
     ]
    }
   ],
   "source": [
    "print(df_train.shape)\n",
    "print(df_test.shape)"
   ]
  },
  {
   "cell_type": "markdown",
   "id": "bcc4a072",
   "metadata": {},
   "source": [
    "## Interpretation of the variables and Data cleaning"
   ]
  },
  {
   "cell_type": "code",
   "execution_count": 103,
   "id": "9cb02f60",
   "metadata": {},
   "outputs": [],
   "source": [
    "\n",
    "# datetime: timestamp of data collected (year,month,day,hour)\n",
    "# season: season in which data collected\n",
    "# holiday: holiday or working day\n",
    "# workingday: workingday or holiday\n",
    "# weather: weather condition\n",
    "# temp: actual temp (deg celsius)\n",
    "# atemp: temp adjusted for humidity and wind\n",
    "# humidity: humidity level in percent\n",
    "# windspeed: wind speed in m/s\n",
    "# casual: unregistered bike users\n",
    "# registered: registered bike users\n",
    "# count: total no.of bikes rented (casual+registered)"
   ]
  },
  {
   "cell_type": "code",
   "execution_count": 104,
   "id": "00548db8",
   "metadata": {},
   "outputs": [
    {
     "data": {
      "text/html": [
       "<div>\n",
       "<style scoped>\n",
       "    .dataframe tbody tr th:only-of-type {\n",
       "        vertical-align: middle;\n",
       "    }\n",
       "\n",
       "    .dataframe tbody tr th {\n",
       "        vertical-align: top;\n",
       "    }\n",
       "\n",
       "    .dataframe thead th {\n",
       "        text-align: right;\n",
       "    }\n",
       "</style>\n",
       "<table border=\"1\" class=\"dataframe\">\n",
       "  <thead>\n",
       "    <tr style=\"text-align: right;\">\n",
       "      <th></th>\n",
       "      <th>datetime</th>\n",
       "      <th>season</th>\n",
       "      <th>holiday</th>\n",
       "      <th>workingday</th>\n",
       "      <th>weather</th>\n",
       "      <th>temp</th>\n",
       "      <th>atemp</th>\n",
       "      <th>humidity</th>\n",
       "      <th>windspeed</th>\n",
       "      <th>casual</th>\n",
       "      <th>registered</th>\n",
       "      <th>count</th>\n",
       "    </tr>\n",
       "  </thead>\n",
       "  <tbody>\n",
       "    <tr>\n",
       "      <th>0</th>\n",
       "      <td>2011-01-01 00:00:00</td>\n",
       "      <td>1</td>\n",
       "      <td>0</td>\n",
       "      <td>0</td>\n",
       "      <td>1</td>\n",
       "      <td>9.84</td>\n",
       "      <td>14.395</td>\n",
       "      <td>81</td>\n",
       "      <td>0.0</td>\n",
       "      <td>3</td>\n",
       "      <td>13</td>\n",
       "      <td>16</td>\n",
       "    </tr>\n",
       "    <tr>\n",
       "      <th>1</th>\n",
       "      <td>2011-01-01 01:00:00</td>\n",
       "      <td>1</td>\n",
       "      <td>0</td>\n",
       "      <td>0</td>\n",
       "      <td>1</td>\n",
       "      <td>9.02</td>\n",
       "      <td>13.635</td>\n",
       "      <td>80</td>\n",
       "      <td>0.0</td>\n",
       "      <td>8</td>\n",
       "      <td>32</td>\n",
       "      <td>40</td>\n",
       "    </tr>\n",
       "    <tr>\n",
       "      <th>2</th>\n",
       "      <td>2011-01-01 02:00:00</td>\n",
       "      <td>1</td>\n",
       "      <td>0</td>\n",
       "      <td>0</td>\n",
       "      <td>1</td>\n",
       "      <td>9.02</td>\n",
       "      <td>13.635</td>\n",
       "      <td>80</td>\n",
       "      <td>0.0</td>\n",
       "      <td>5</td>\n",
       "      <td>27</td>\n",
       "      <td>32</td>\n",
       "    </tr>\n",
       "    <tr>\n",
       "      <th>3</th>\n",
       "      <td>2011-01-01 03:00:00</td>\n",
       "      <td>1</td>\n",
       "      <td>0</td>\n",
       "      <td>0</td>\n",
       "      <td>1</td>\n",
       "      <td>9.84</td>\n",
       "      <td>14.395</td>\n",
       "      <td>75</td>\n",
       "      <td>0.0</td>\n",
       "      <td>3</td>\n",
       "      <td>10</td>\n",
       "      <td>13</td>\n",
       "    </tr>\n",
       "    <tr>\n",
       "      <th>4</th>\n",
       "      <td>2011-01-01 04:00:00</td>\n",
       "      <td>1</td>\n",
       "      <td>0</td>\n",
       "      <td>0</td>\n",
       "      <td>1</td>\n",
       "      <td>9.84</td>\n",
       "      <td>14.395</td>\n",
       "      <td>75</td>\n",
       "      <td>0.0</td>\n",
       "      <td>0</td>\n",
       "      <td>1</td>\n",
       "      <td>1</td>\n",
       "    </tr>\n",
       "  </tbody>\n",
       "</table>\n",
       "</div>"
      ],
      "text/plain": [
       "              datetime  season  holiday  workingday  weather  temp   atemp  \\\n",
       "0  2011-01-01 00:00:00       1        0           0        1  9.84  14.395   \n",
       "1  2011-01-01 01:00:00       1        0           0        1  9.02  13.635   \n",
       "2  2011-01-01 02:00:00       1        0           0        1  9.02  13.635   \n",
       "3  2011-01-01 03:00:00       1        0           0        1  9.84  14.395   \n",
       "4  2011-01-01 04:00:00       1        0           0        1  9.84  14.395   \n",
       "\n",
       "   humidity  windspeed  casual  registered  count  \n",
       "0        81        0.0       3          13     16  \n",
       "1        80        0.0       8          32     40  \n",
       "2        80        0.0       5          27     32  \n",
       "3        75        0.0       3          10     13  \n",
       "4        75        0.0       0           1      1  "
      ]
     },
     "execution_count": 104,
     "metadata": {},
     "output_type": "execute_result"
    }
   ],
   "source": [
    "df=df_train.copy()\n",
    "df.head()"
   ]
  },
  {
   "cell_type": "code",
   "execution_count": 105,
   "id": "18042a34",
   "metadata": {},
   "outputs": [
    {
     "data": {
      "text/plain": [
       "4    2734\n",
       "2    2733\n",
       "3    2733\n",
       "1    2686\n",
       "Name: season, dtype: int64"
      ]
     },
     "execution_count": 105,
     "metadata": {},
     "output_type": "execute_result"
    }
   ],
   "source": [
    "df['season'].value_counts()                     # likely 1:winter,2:spring,3:summer,4:Fall"
   ]
  },
  {
   "cell_type": "code",
   "execution_count": 106,
   "id": "76daa68e",
   "metadata": {},
   "outputs": [
    {
     "data": {
      "text/plain": [
       "1    7192\n",
       "2    2834\n",
       "3     859\n",
       "4       1\n",
       "Name: weather, dtype: int64"
      ]
     },
     "execution_count": 106,
     "metadata": {},
     "output_type": "execute_result"
    }
   ],
   "source": [
    "df['weather'].value_counts()                 # likely 1:clear sky,2:cloudy,3:light rain,4:heavy rain"
   ]
  },
  {
   "cell_type": "code",
   "execution_count": 107,
   "id": "f2a65d85",
   "metadata": {},
   "outputs": [
    {
     "data": {
      "text/plain": [
       "0    10575\n",
       "1      311\n",
       "Name: holiday, dtype: int64"
      ]
     },
     "execution_count": 107,
     "metadata": {},
     "output_type": "execute_result"
    }
   ],
   "source": [
    "df['holiday'].value_counts()"
   ]
  },
  {
   "cell_type": "code",
   "execution_count": 108,
   "id": "a4349ebe",
   "metadata": {},
   "outputs": [
    {
     "data": {
      "text/plain": [
       "1    7412\n",
       "0    3474\n",
       "Name: workingday, dtype: int64"
      ]
     },
     "execution_count": 108,
     "metadata": {},
     "output_type": "execute_result"
    }
   ],
   "source": [
    "df['workingday'].value_counts()         # hear holiday and workingday are not compliment to each other so we treat them as separate variables as they indicate diff aspects of day's status"
   ]
  },
  {
   "cell_type": "code",
   "execution_count": 109,
   "id": "38d2c79f",
   "metadata": {},
   "outputs": [
    {
     "name": "stdout",
     "output_type": "stream",
     "text": [
      "<class 'pandas.core.frame.DataFrame'>\n",
      "RangeIndex: 10886 entries, 0 to 10885\n",
      "Data columns (total 12 columns):\n",
      " #   Column      Non-Null Count  Dtype  \n",
      "---  ------      --------------  -----  \n",
      " 0   datetime    10886 non-null  object \n",
      " 1   season      10886 non-null  int64  \n",
      " 2   holiday     10886 non-null  int64  \n",
      " 3   workingday  10886 non-null  int64  \n",
      " 4   weather     10886 non-null  int64  \n",
      " 5   temp        10886 non-null  float64\n",
      " 6   atemp       10886 non-null  float64\n",
      " 7   humidity    10886 non-null  int64  \n",
      " 8   windspeed   10886 non-null  float64\n",
      " 9   casual      10886 non-null  int64  \n",
      " 10  registered  10886 non-null  int64  \n",
      " 11  count       10886 non-null  int64  \n",
      "dtypes: float64(3), int64(8), object(1)\n",
      "memory usage: 1020.7+ KB\n"
     ]
    }
   ],
   "source": [
    "df.info()"
   ]
  },
  {
   "cell_type": "markdown",
   "id": "fd9ff8e3",
   "metadata": {},
   "source": [
    "### Changing the data types of features to optimize memory usage and ensure proper handling of features"
   ]
  },
  {
   "cell_type": "code",
   "execution_count": 110,
   "id": "aa8d1893",
   "metadata": {},
   "outputs": [],
   "source": [
    "# converting datetime from obj to datetime\n",
    "df['datetime']=pd.to_datetime(df['datetime'])\n",
    "dft['datetime']=pd.to_datetime(dft['datetime'])\n",
    "\n",
    "# Converting categorical columns from int to category type\n",
    "df['season']=df['season'].astype('category')\n",
    "dft['season']=dft['season'].astype('category')\n",
    "df['holiday']=df['holiday'].astype('category')\n",
    "dft['holiday']=dft['holiday'].astype('category')\n",
    "df['workingday']=df['workingday'].astype('category')\n",
    "dft['workingday']=dft['workingday'].astype('category')\n",
    "df['weather']=df['weather'].astype('category')\n",
    "dft['weather']=dft['weather'].astype('category')\n",
    "\n",
    "# converting int64 and float64 to int32 and float32 to reduce the memory usage\n",
    "df['temp']=df['temp'].astype('float32')\n",
    "dft['temp']=dft['temp'].astype('float32')\n",
    "df['atemp']=df['atemp'].astype('float32')\n",
    "dft['atemp']=dft['atemp'].astype('float32')\n",
    "df['windspeed']=df['windspeed'].astype('float32')\n",
    "dft['windspeed']=dft['windspeed'].astype('float32')\n",
    "df['humidity']=df['humidity'].astype('int32')\n",
    "dft['humidity']=dft['humidity'].astype('int32')\n",
    "df['casual']=df['casual'].astype('int32')\n",
    "df['registered']=df['registered'].astype('int32')\n",
    "df['count']=df['count'].astype('int32')\n",
    "\n"
   ]
  },
  {
   "cell_type": "code",
   "execution_count": 111,
   "id": "6975966c",
   "metadata": {},
   "outputs": [
    {
     "name": "stdout",
     "output_type": "stream",
     "text": [
      "<class 'pandas.core.frame.DataFrame'>\n",
      "RangeIndex: 10886 entries, 0 to 10885\n",
      "Data columns (total 12 columns):\n",
      " #   Column      Non-Null Count  Dtype         \n",
      "---  ------      --------------  -----         \n",
      " 0   datetime    10886 non-null  datetime64[ns]\n",
      " 1   season      10886 non-null  category      \n",
      " 2   holiday     10886 non-null  category      \n",
      " 3   workingday  10886 non-null  category      \n",
      " 4   weather     10886 non-null  category      \n",
      " 5   temp        10886 non-null  float32       \n",
      " 6   atemp       10886 non-null  float32       \n",
      " 7   humidity    10886 non-null  int32         \n",
      " 8   windspeed   10886 non-null  float32       \n",
      " 9   casual      10886 non-null  int32         \n",
      " 10  registered  10886 non-null  int32         \n",
      " 11  count       10886 non-null  int32         \n",
      "dtypes: category(4), datetime64[ns](1), float32(3), int32(4)\n",
      "memory usage: 426.0 KB\n"
     ]
    }
   ],
   "source": [
    "df.info()                    # no missing values in both train and test data"
   ]
  },
  {
   "cell_type": "markdown",
   "id": "26704b9f",
   "metadata": {},
   "source": [
    "### Extracting year,month,day,hour from datetime variable"
   ]
  },
  {
   "cell_type": "code",
   "execution_count": 112,
   "id": "9e3a6493",
   "metadata": {},
   "outputs": [],
   "source": [
    "############## for train data ###################\n",
    "y=df['datetime'].dt.year                          \n",
    "m=df['datetime'].dt.month\n",
    "d=df['datetime'].dt.day\n",
    "h=df['datetime'].dt.hour\n"
   ]
  },
  {
   "cell_type": "code",
   "execution_count": 113,
   "id": "0f06cb69",
   "metadata": {},
   "outputs": [],
   "source": [
    "df.insert(0,'year',y)"
   ]
  },
  {
   "cell_type": "code",
   "execution_count": 114,
   "id": "b20e4086",
   "metadata": {},
   "outputs": [],
   "source": [
    "df.insert(1,'month',m)\n",
    "df.insert(2,'day',d)\n",
    "df.insert(3,'hour',h)"
   ]
  },
  {
   "cell_type": "code",
   "execution_count": 115,
   "id": "ed81a875",
   "metadata": {},
   "outputs": [],
   "source": [
    "df=df.drop(columns=['datetime'])                      # dropping datetime from train data"
   ]
  },
  {
   "cell_type": "code",
   "execution_count": 116,
   "id": "4ab5fe97",
   "metadata": {},
   "outputs": [
    {
     "data": {
      "text/html": [
       "<div>\n",
       "<style scoped>\n",
       "    .dataframe tbody tr th:only-of-type {\n",
       "        vertical-align: middle;\n",
       "    }\n",
       "\n",
       "    .dataframe tbody tr th {\n",
       "        vertical-align: top;\n",
       "    }\n",
       "\n",
       "    .dataframe thead th {\n",
       "        text-align: right;\n",
       "    }\n",
       "</style>\n",
       "<table border=\"1\" class=\"dataframe\">\n",
       "  <thead>\n",
       "    <tr style=\"text-align: right;\">\n",
       "      <th></th>\n",
       "      <th>year</th>\n",
       "      <th>month</th>\n",
       "      <th>day</th>\n",
       "      <th>hour</th>\n",
       "      <th>season</th>\n",
       "      <th>holiday</th>\n",
       "      <th>workingday</th>\n",
       "      <th>weather</th>\n",
       "      <th>temp</th>\n",
       "      <th>atemp</th>\n",
       "      <th>humidity</th>\n",
       "      <th>windspeed</th>\n",
       "      <th>casual</th>\n",
       "      <th>registered</th>\n",
       "      <th>count</th>\n",
       "    </tr>\n",
       "  </thead>\n",
       "  <tbody>\n",
       "    <tr>\n",
       "      <th>0</th>\n",
       "      <td>2011</td>\n",
       "      <td>1</td>\n",
       "      <td>1</td>\n",
       "      <td>0</td>\n",
       "      <td>1</td>\n",
       "      <td>0</td>\n",
       "      <td>0</td>\n",
       "      <td>1</td>\n",
       "      <td>9.84</td>\n",
       "      <td>14.395</td>\n",
       "      <td>81</td>\n",
       "      <td>0.0</td>\n",
       "      <td>3</td>\n",
       "      <td>13</td>\n",
       "      <td>16</td>\n",
       "    </tr>\n",
       "    <tr>\n",
       "      <th>1</th>\n",
       "      <td>2011</td>\n",
       "      <td>1</td>\n",
       "      <td>1</td>\n",
       "      <td>1</td>\n",
       "      <td>1</td>\n",
       "      <td>0</td>\n",
       "      <td>0</td>\n",
       "      <td>1</td>\n",
       "      <td>9.02</td>\n",
       "      <td>13.635</td>\n",
       "      <td>80</td>\n",
       "      <td>0.0</td>\n",
       "      <td>8</td>\n",
       "      <td>32</td>\n",
       "      <td>40</td>\n",
       "    </tr>\n",
       "  </tbody>\n",
       "</table>\n",
       "</div>"
      ],
      "text/plain": [
       "   year  month  day  hour season holiday workingday weather  temp   atemp  \\\n",
       "0  2011      1    1     0      1       0          0       1  9.84  14.395   \n",
       "1  2011      1    1     1      1       0          0       1  9.02  13.635   \n",
       "\n",
       "   humidity  windspeed  casual  registered  count  \n",
       "0        81        0.0       3          13     16  \n",
       "1        80        0.0       8          32     40  "
      ]
     },
     "execution_count": 116,
     "metadata": {},
     "output_type": "execute_result"
    }
   ],
   "source": [
    "df.head(2)"
   ]
  },
  {
   "cell_type": "code",
   "execution_count": 117,
   "id": "f8e94855",
   "metadata": {},
   "outputs": [
    {
     "data": {
      "text/plain": [
       "array([ 1,  2,  3,  4,  5,  6,  7,  8,  9, 10, 11, 12], dtype=int64)"
      ]
     },
     "execution_count": 117,
     "metadata": {},
     "output_type": "execute_result"
    }
   ],
   "source": [
    "df['month'].unique()"
   ]
  },
  {
   "cell_type": "code",
   "execution_count": 118,
   "id": "70268387",
   "metadata": {},
   "outputs": [
    {
     "data": {
      "text/plain": [
       "array([2011, 2012], dtype=int64)"
      ]
     },
     "execution_count": 118,
     "metadata": {},
     "output_type": "execute_result"
    }
   ],
   "source": [
    "df['year'].unique()"
   ]
  },
  {
   "cell_type": "code",
   "execution_count": 119,
   "id": "d41b55af",
   "metadata": {},
   "outputs": [
    {
     "data": {
      "text/plain": [
       "array([ 1,  2,  3,  4,  5,  6,  7,  8,  9, 10, 11, 12, 13, 14, 15, 16, 17,\n",
       "       18, 19], dtype=int64)"
      ]
     },
     "execution_count": 119,
     "metadata": {},
     "output_type": "execute_result"
    }
   ],
   "source": [
    "df['day'].unique()"
   ]
  },
  {
   "cell_type": "code",
   "execution_count": 120,
   "id": "5ca157da",
   "metadata": {},
   "outputs": [
    {
     "data": {
      "text/plain": [
       "array([ 0,  1,  2,  3,  4,  5,  6,  7,  8,  9, 10, 11, 12, 13, 14, 15, 16,\n",
       "       17, 18, 19, 20, 21, 22, 23], dtype=int64)"
      ]
     },
     "execution_count": 120,
     "metadata": {},
     "output_type": "execute_result"
    }
   ],
   "source": [
    "df['hour'].unique()"
   ]
  },
  {
   "cell_type": "code",
   "execution_count": 121,
   "id": "47589c6b",
   "metadata": {},
   "outputs": [],
   "source": [
    "############## for test data ###################\n",
    "y1=dft['datetime'].dt.year                          \n",
    "m1=dft['datetime'].dt.month\n",
    "d1=dft['datetime'].dt.day\n",
    "h1=dft['datetime'].dt.hour"
   ]
  },
  {
   "cell_type": "code",
   "execution_count": 122,
   "id": "48d72cbf",
   "metadata": {},
   "outputs": [],
   "source": [
    "dft.insert(0,'year',y1)\n",
    "dft.insert(1,'month',m1)\n",
    "dft.insert(2,'day',d1)\n",
    "dft.insert(3,'hour',h1)"
   ]
  },
  {
   "cell_type": "code",
   "execution_count": 123,
   "id": "0a36e198",
   "metadata": {},
   "outputs": [],
   "source": [
    "dft=dft.drop(columns=['datetime'])               # Dropping datetime from test data"
   ]
  },
  {
   "cell_type": "code",
   "execution_count": 124,
   "id": "54bf0505",
   "metadata": {},
   "outputs": [
    {
     "data": {
      "text/html": [
       "<div>\n",
       "<style scoped>\n",
       "    .dataframe tbody tr th:only-of-type {\n",
       "        vertical-align: middle;\n",
       "    }\n",
       "\n",
       "    .dataframe tbody tr th {\n",
       "        vertical-align: top;\n",
       "    }\n",
       "\n",
       "    .dataframe thead th {\n",
       "        text-align: right;\n",
       "    }\n",
       "</style>\n",
       "<table border=\"1\" class=\"dataframe\">\n",
       "  <thead>\n",
       "    <tr style=\"text-align: right;\">\n",
       "      <th></th>\n",
       "      <th>year</th>\n",
       "      <th>month</th>\n",
       "      <th>day</th>\n",
       "      <th>hour</th>\n",
       "      <th>season</th>\n",
       "      <th>holiday</th>\n",
       "      <th>workingday</th>\n",
       "      <th>weather</th>\n",
       "      <th>temp</th>\n",
       "      <th>atemp</th>\n",
       "      <th>humidity</th>\n",
       "      <th>windspeed</th>\n",
       "    </tr>\n",
       "  </thead>\n",
       "  <tbody>\n",
       "    <tr>\n",
       "      <th>0</th>\n",
       "      <td>2011</td>\n",
       "      <td>1</td>\n",
       "      <td>20</td>\n",
       "      <td>0</td>\n",
       "      <td>1</td>\n",
       "      <td>0</td>\n",
       "      <td>1</td>\n",
       "      <td>1</td>\n",
       "      <td>10.66</td>\n",
       "      <td>11.365</td>\n",
       "      <td>56</td>\n",
       "      <td>26.002701</td>\n",
       "    </tr>\n",
       "    <tr>\n",
       "      <th>1</th>\n",
       "      <td>2011</td>\n",
       "      <td>1</td>\n",
       "      <td>20</td>\n",
       "      <td>1</td>\n",
       "      <td>1</td>\n",
       "      <td>0</td>\n",
       "      <td>1</td>\n",
       "      <td>1</td>\n",
       "      <td>10.66</td>\n",
       "      <td>13.635</td>\n",
       "      <td>56</td>\n",
       "      <td>0.000000</td>\n",
       "    </tr>\n",
       "  </tbody>\n",
       "</table>\n",
       "</div>"
      ],
      "text/plain": [
       "   year  month  day  hour season holiday workingday weather   temp   atemp  \\\n",
       "0  2011      1   20     0      1       0          1       1  10.66  11.365   \n",
       "1  2011      1   20     1      1       0          1       1  10.66  13.635   \n",
       "\n",
       "   humidity  windspeed  \n",
       "0        56  26.002701  \n",
       "1        56   0.000000  "
      ]
     },
     "execution_count": 124,
     "metadata": {},
     "output_type": "execute_result"
    }
   ],
   "source": [
    "dft.head(2)"
   ]
  },
  {
   "cell_type": "code",
   "execution_count": 125,
   "id": "f84398e5",
   "metadata": {},
   "outputs": [
    {
     "data": {
      "text/html": [
       "<div>\n",
       "<style scoped>\n",
       "    .dataframe tbody tr th:only-of-type {\n",
       "        vertical-align: middle;\n",
       "    }\n",
       "\n",
       "    .dataframe tbody tr th {\n",
       "        vertical-align: top;\n",
       "    }\n",
       "\n",
       "    .dataframe thead th {\n",
       "        text-align: right;\n",
       "    }\n",
       "</style>\n",
       "<table border=\"1\" class=\"dataframe\">\n",
       "  <thead>\n",
       "    <tr style=\"text-align: right;\">\n",
       "      <th></th>\n",
       "      <th>year</th>\n",
       "      <th>month</th>\n",
       "      <th>day</th>\n",
       "      <th>hour</th>\n",
       "      <th>season</th>\n",
       "      <th>holiday</th>\n",
       "      <th>workingday</th>\n",
       "      <th>weather</th>\n",
       "      <th>temp</th>\n",
       "      <th>atemp</th>\n",
       "      <th>humidity</th>\n",
       "      <th>windspeed</th>\n",
       "      <th>casual</th>\n",
       "      <th>registered</th>\n",
       "      <th>count</th>\n",
       "    </tr>\n",
       "  </thead>\n",
       "  <tbody>\n",
       "    <tr>\n",
       "      <th>0</th>\n",
       "      <td>2011</td>\n",
       "      <td>1</td>\n",
       "      <td>1</td>\n",
       "      <td>0</td>\n",
       "      <td>1</td>\n",
       "      <td>0</td>\n",
       "      <td>0</td>\n",
       "      <td>1</td>\n",
       "      <td>9.84</td>\n",
       "      <td>14.395</td>\n",
       "      <td>81</td>\n",
       "      <td>0.0</td>\n",
       "      <td>3</td>\n",
       "      <td>13</td>\n",
       "      <td>16</td>\n",
       "    </tr>\n",
       "    <tr>\n",
       "      <th>1</th>\n",
       "      <td>2011</td>\n",
       "      <td>1</td>\n",
       "      <td>1</td>\n",
       "      <td>1</td>\n",
       "      <td>1</td>\n",
       "      <td>0</td>\n",
       "      <td>0</td>\n",
       "      <td>1</td>\n",
       "      <td>9.02</td>\n",
       "      <td>13.635</td>\n",
       "      <td>80</td>\n",
       "      <td>0.0</td>\n",
       "      <td>8</td>\n",
       "      <td>32</td>\n",
       "      <td>40</td>\n",
       "    </tr>\n",
       "  </tbody>\n",
       "</table>\n",
       "</div>"
      ],
      "text/plain": [
       "   year  month  day  hour season holiday workingday weather  temp   atemp  \\\n",
       "0  2011      1    1     0      1       0          0       1  9.84  14.395   \n",
       "1  2011      1    1     1      1       0          0       1  9.02  13.635   \n",
       "\n",
       "   humidity  windspeed  casual  registered  count  \n",
       "0        81        0.0       3          13     16  \n",
       "1        80        0.0       8          32     40  "
      ]
     },
     "execution_count": 125,
     "metadata": {},
     "output_type": "execute_result"
    }
   ],
   "source": [
    "df.head(2)"
   ]
  },
  {
   "cell_type": "code",
   "execution_count": 126,
   "id": "8aecdb88",
   "metadata": {},
   "outputs": [],
   "source": [
    "df['year']=df['year'].astype('category')\n",
    "dft['year']=dft['year'].astype('category')\n",
    "df['month']=df['month'].astype('category')\n",
    "dft['month']=dft['month'].astype('category')\n",
    "df['day']=df['day'].astype('category')\n",
    "dft['day']=dft['day'].astype('category')\n",
    "df['hour']=df['hour'].astype('category')\n",
    "dft['hour']=dft['hour'].astype('category')"
   ]
  },
  {
   "cell_type": "code",
   "execution_count": 127,
   "id": "abe1d35c",
   "metadata": {},
   "outputs": [
    {
     "name": "stdout",
     "output_type": "stream",
     "text": [
      "<class 'pandas.core.frame.DataFrame'>\n",
      "RangeIndex: 10886 entries, 0 to 10885\n",
      "Data columns (total 15 columns):\n",
      " #   Column      Non-Null Count  Dtype   \n",
      "---  ------      --------------  -----   \n",
      " 0   year        10886 non-null  category\n",
      " 1   month       10886 non-null  category\n",
      " 2   day         10886 non-null  category\n",
      " 3   hour        10886 non-null  category\n",
      " 4   season      10886 non-null  category\n",
      " 5   holiday     10886 non-null  category\n",
      " 6   workingday  10886 non-null  category\n",
      " 7   weather     10886 non-null  category\n",
      " 8   temp        10886 non-null  float32 \n",
      " 9   atemp       10886 non-null  float32 \n",
      " 10  humidity    10886 non-null  int32   \n",
      " 11  windspeed   10886 non-null  float32 \n",
      " 12  casual      10886 non-null  int32   \n",
      " 13  registered  10886 non-null  int32   \n",
      " 14  count       10886 non-null  int32   \n",
      "dtypes: category(8), float32(3), int32(4)\n",
      "memory usage: 385.4 KB\n"
     ]
    }
   ],
   "source": [
    "df.info()"
   ]
  },
  {
   "cell_type": "code",
   "execution_count": 128,
   "id": "a05fc024",
   "metadata": {},
   "outputs": [
    {
     "data": {
      "text/plain": [
       "0"
      ]
     },
     "execution_count": 128,
     "metadata": {},
     "output_type": "execute_result"
    }
   ],
   "source": [
    "df.duplicated().sum()                                     # No duplicates in data"
   ]
  },
  {
   "cell_type": "markdown",
   "id": "0783e623",
   "metadata": {},
   "source": [
    "## Exploratory Data Analysis"
   ]
  },
  {
   "cell_type": "markdown",
   "id": "0f2494a3",
   "metadata": {},
   "source": [
    "### Univariate Analysis"
   ]
  },
  {
   "cell_type": "code",
   "execution_count": 33,
   "id": "08665aae",
   "metadata": {},
   "outputs": [
    {
     "data": {
      "image/png": "[encoded data removed]",
      "text/plain": [
       "<Figure size 864x576 with 4 Axes>"
      ]
     },
     "metadata": {
      "needs_background": "light"
     },
     "output_type": "display_data"
    }
   ],
   "source": [
    "fig,ax=plt.subplots(2,2,figsize=(12,8))\n",
    "sns.countplot(df['season'],data=df,ax=ax[0,0],color='red')             #using seaborn\n",
    "ax[0,0].set_title('season data')\n",
    "sns.countplot(df['weather'],data=df,ax=ax[0,1],color='blue')\n",
    "ax[0,1].set_title('weather data')\n",
    "sns.countplot(df['holiday'],data=df,ax=ax[1,0],color='green')\n",
    "ax[1,0].set_title('holidays data')\n",
    "sns.countplot(df['workingday'],data=df,ax=ax[1,1],color='purple')\n",
    "ax[1,1].set_title('working day data')\n",
    "\n",
    "plt.tight_layout()\n",
    "plt.show()"
   ]
  },
  {
   "cell_type": "markdown",
   "id": "32bd710a",
   "metadata": {},
   "source": [
    "### Bivariate Analysis"
   ]
  },
  {
   "cell_type": "code",
   "execution_count": 34,
   "id": "780f1698",
   "metadata": {},
   "outputs": [
    {
     "data": {
      "image/png": "[encoded data removed]",
      "text/plain": [
       "<Figure size 1152x792 with 4 Axes>"
      ]
     },
     "metadata": {
      "needs_background": "light"
     },
     "output_type": "display_data"
    }
   ],
   "source": [
    "# numerical features\n",
    "\n",
    "fig,ax=plt.subplots(2,2,figsize=(16,11))\n",
    "sns.lineplot(df['temp'],df['count'],data=df,ax=ax[0,0],color='red')             #using seaborn\n",
    "ax[0,0].set_title('Rentals based on temp')\n",
    "sns.lineplot(df['humidity'],df['count'],data=df,ax=ax[0,1],color='blue')\n",
    "ax[0,1].set_title('Rentals based on humidity')\n",
    "sns.lineplot(df['windspeed'],df['count'],data=df,ax=ax[1,0],color='red')\n",
    "ax[1,0].set_title('Rentals based on windspeed')\n",
    "sns.lineplot(df['atemp'],df['count'],data=df,ax=ax[1,1],color='blue')\n",
    "ax[1,1].set_title('Rentals based on adjusted temp')\n",
    "plt.tight_layout()\n",
    "plt.show()"
   ]
  },
  {
   "cell_type": "markdown",
   "id": "4c1903c7",
   "metadata": {},
   "source": [
    "The demand for bike rental is increasing as temp increasing and reaching peak around 25-30 deg celcius. Humidity and windspeed is showing negative impact on rentals.and adjusted temp is showing same impact as temp."
   ]
  },
  {
   "cell_type": "code",
   "execution_count": 35,
   "id": "16520b43",
   "metadata": {},
   "outputs": [
    {
     "data": {
      "image/png": "[encoded data removed]",
      "text/plain": [
       "<Figure size 1152x792 with 6 Axes>"
      ]
     },
     "metadata": {
      "needs_background": "light"
     },
     "output_type": "display_data"
    }
   ],
   "source": [
    "# Categorical columns\n",
    "\n",
    "categorical_features=['year','month','day','hour','season','holiday','workingday','weather']\n",
    "\n",
    "fig,ax=plt.subplots(3,2,figsize=(16,11))\n",
    "sns.barplot(df['year'],df['count'],data=df,ax=ax[0,0],color='red')                                  \n",
    "ax[0,0].set_title('year wise rentals')\n",
    "sns.barplot(df['holiday'],df['count'],data=df,ax=ax[0,1],color='blue')\n",
    "ax[0,1].set_title('Rentals on holidays')\n",
    "sns.barplot(df['season'],df['count'],data=df,ax=ax[1,0],color='green')\n",
    "ax[1,0].set_title('season wise rentals')\n",
    "sns.barplot(df['workingday'],df['count'],data=df,ax=ax[1,1],color='purple')\n",
    "ax[1,1].set_title('Workingday rentals')\n",
    "sns.barplot(df['weather'],df['count'],data=df,ax=ax[2,0],color='red')\n",
    "ax[2,0].set_title('Rentals based on weather')\n",
    "sns.barplot(df['month'],df['count'],data=df,ax=ax[2,1],color='blue')\n",
    "ax[2,1].set_title('Month wiseRentals')\n",
    "plt.tight_layout()\n",
    "plt.show()\n",
    "       \n",
    "\n"
   ]
  },
  {
   "cell_type": "markdown",
   "id": "71643a32",
   "metadata": {},
   "source": [
    "Rentals are increased from 2011 to 2012 which shows growing popularity of rentals over time.Irrespective of holiday or workingday the demand for rentals is same. The rentals is low on 1st season compared to other seasons. The most favourable weather conditions for rental is 1 and 2. The rentals are lowest in the early and late months of the year which means bikers are preferring warmer months for rental than colder months."
   ]
  },
  {
   "cell_type": "code",
   "execution_count": 36,
   "id": "10333a0c",
   "metadata": {},
   "outputs": [
    {
     "data": {
      "image/png": "[encoded data removed]",
      "text/plain": [
       "<Figure size 648x360 with 1 Axes>"
      ]
     },
     "metadata": {
      "needs_background": "light"
     },
     "output_type": "display_data"
    }
   ],
   "source": [
    "hourly_rentals=df.groupby('hour')['count'].mean()\n",
    "plt.figure(figsize=(9,5))\n",
    "sns.lineplot(x=hourly_rentals.index,y=hourly_rentals.values)\n",
    "plt.title('Average bike rentals by hour')\n",
    "plt.xlabel('Hour of the day')\n",
    "plt.ylabel('Average Rentals')\n",
    "plt.show()"
   ]
  },
  {
   "cell_type": "markdown",
   "id": "9660ec46",
   "metadata": {},
   "source": [
    "The demand for bike rental is increasing from morning 6AM and peak at around 8-9AM, after that there is a drop in demand till around 3PM and again increasing in the evening and showing peak at around 5-6PM and after that rentals are steadily decreasing.\n",
    "so the rush hours for rentals will be morning around 8-9AM and evening around 5-6PM."
   ]
  },
  {
   "cell_type": "markdown",
   "id": "388684ca",
   "metadata": {},
   "source": [
    "### Multivariate Analysis"
   ]
  },
  {
   "cell_type": "code",
   "execution_count": 37,
   "id": "40e258f1",
   "metadata": {},
   "outputs": [
    {
     "data": {
      "image/png": "[encoded data removed]",
      "text/plain": [
       "<Figure size 720x432 with 1 Axes>"
      ]
     },
     "metadata": {
      "needs_background": "light"
     },
     "output_type": "display_data"
    }
   ],
   "source": [
    "\n",
    "plt.figure(figsize=(10,6))\n",
    "sns.barplot(x=df['hour'],y=df['count'],hue=df['holiday'])\n",
    "plt.title('Peak hours of rentals on holidays')\n",
    "plt.xlabel('hour')\n",
    "plt.ylabel('Rentals')\n",
    "plt.show()"
   ]
  },
  {
   "cell_type": "markdown",
   "id": "1274c170",
   "metadata": {},
   "source": [
    "on holidays the demand for bike rentals is high around 10AM to 3PM."
   ]
  },
  {
   "cell_type": "code",
   "execution_count": 38,
   "id": "9c1a5505",
   "metadata": {},
   "outputs": [
    {
     "data": {
      "image/png": "[encoded data removed]",
      "text/plain": [
       "<Figure size 720x432 with 1 Axes>"
      ]
     },
     "metadata": {
      "needs_background": "light"
     },
     "output_type": "display_data"
    }
   ],
   "source": [
    "plt.figure(figsize=(10,6))\n",
    "sns.barplot(x=df['hour'],y=df['count'],hue=df['workingday'])\n",
    "plt.title('Peak hours of rentals on workingdays')\n",
    "plt.xlabel('hour')\n",
    "plt.ylabel('Rentals')\n",
    "plt.show()"
   ]
  },
  {
   "cell_type": "markdown",
   "id": "899d5b9f",
   "metadata": {},
   "source": [
    "on workingdays the demand for bike rentals is very high at morning 6-9AM and evening 5-10PM."
   ]
  },
  {
   "cell_type": "code",
   "execution_count": 129,
   "id": "8ba0f957",
   "metadata": {},
   "outputs": [
    {
     "data": {
      "text/plain": [
       "<AxesSubplot:>"
      ]
     },
     "execution_count": 129,
     "metadata": {},
     "output_type": "execute_result"
    },
    {
     "data": {
      "image/png": "[encoded data removed]",
      "text/plain": [
       "<Figure size 432x288 with 2 Axes>"
      ]
     },
     "metadata": {
      "needs_background": "light"
     },
     "output_type": "display_data"
    }
   ],
   "source": [
    "corr_matrix=df.corr()\n",
    "sns.heatmap(corr_matrix,annot=True)                 "
   ]
  },
  {
   "cell_type": "code",
   "execution_count": 130,
   "id": "0513bca3",
   "metadata": {},
   "outputs": [],
   "source": [
    "df1=df.drop(columns=(['atemp','casual','registered']))"
   ]
  },
  {
   "cell_type": "code",
   "execution_count": 131,
   "id": "942097da",
   "metadata": {},
   "outputs": [
    {
     "data": {
      "text/html": [
       "<div>\n",
       "<style scoped>\n",
       "    .dataframe tbody tr th:only-of-type {\n",
       "        vertical-align: middle;\n",
       "    }\n",
       "\n",
       "    .dataframe tbody tr th {\n",
       "        vertical-align: top;\n",
       "    }\n",
       "\n",
       "    .dataframe thead th {\n",
       "        text-align: right;\n",
       "    }\n",
       "</style>\n",
       "<table border=\"1\" class=\"dataframe\">\n",
       "  <thead>\n",
       "    <tr style=\"text-align: right;\">\n",
       "      <th></th>\n",
       "      <th>year</th>\n",
       "      <th>month</th>\n",
       "      <th>day</th>\n",
       "      <th>hour</th>\n",
       "      <th>season</th>\n",
       "      <th>holiday</th>\n",
       "      <th>workingday</th>\n",
       "      <th>weather</th>\n",
       "      <th>temp</th>\n",
       "      <th>humidity</th>\n",
       "      <th>windspeed</th>\n",
       "      <th>count</th>\n",
       "    </tr>\n",
       "  </thead>\n",
       "  <tbody>\n",
       "    <tr>\n",
       "      <th>0</th>\n",
       "      <td>2011</td>\n",
       "      <td>1</td>\n",
       "      <td>1</td>\n",
       "      <td>0</td>\n",
       "      <td>1</td>\n",
       "      <td>0</td>\n",
       "      <td>0</td>\n",
       "      <td>1</td>\n",
       "      <td>9.84</td>\n",
       "      <td>81</td>\n",
       "      <td>0.0</td>\n",
       "      <td>16</td>\n",
       "    </tr>\n",
       "    <tr>\n",
       "      <th>1</th>\n",
       "      <td>2011</td>\n",
       "      <td>1</td>\n",
       "      <td>1</td>\n",
       "      <td>1</td>\n",
       "      <td>1</td>\n",
       "      <td>0</td>\n",
       "      <td>0</td>\n",
       "      <td>1</td>\n",
       "      <td>9.02</td>\n",
       "      <td>80</td>\n",
       "      <td>0.0</td>\n",
       "      <td>40</td>\n",
       "    </tr>\n",
       "    <tr>\n",
       "      <th>2</th>\n",
       "      <td>2011</td>\n",
       "      <td>1</td>\n",
       "      <td>1</td>\n",
       "      <td>2</td>\n",
       "      <td>1</td>\n",
       "      <td>0</td>\n",
       "      <td>0</td>\n",
       "      <td>1</td>\n",
       "      <td>9.02</td>\n",
       "      <td>80</td>\n",
       "      <td>0.0</td>\n",
       "      <td>32</td>\n",
       "    </tr>\n",
       "    <tr>\n",
       "      <th>3</th>\n",
       "      <td>2011</td>\n",
       "      <td>1</td>\n",
       "      <td>1</td>\n",
       "      <td>3</td>\n",
       "      <td>1</td>\n",
       "      <td>0</td>\n",
       "      <td>0</td>\n",
       "      <td>1</td>\n",
       "      <td>9.84</td>\n",
       "      <td>75</td>\n",
       "      <td>0.0</td>\n",
       "      <td>13</td>\n",
       "    </tr>\n",
       "    <tr>\n",
       "      <th>4</th>\n",
       "      <td>2011</td>\n",
       "      <td>1</td>\n",
       "      <td>1</td>\n",
       "      <td>4</td>\n",
       "      <td>1</td>\n",
       "      <td>0</td>\n",
       "      <td>0</td>\n",
       "      <td>1</td>\n",
       "      <td>9.84</td>\n",
       "      <td>75</td>\n",
       "      <td>0.0</td>\n",
       "      <td>1</td>\n",
       "    </tr>\n",
       "  </tbody>\n",
       "</table>\n",
       "</div>"
      ],
      "text/plain": [
       "   year month day hour season holiday workingday weather  temp  humidity  \\\n",
       "0  2011     1   1    0      1       0          0       1  9.84        81   \n",
       "1  2011     1   1    1      1       0          0       1  9.02        80   \n",
       "2  2011     1   1    2      1       0          0       1  9.02        80   \n",
       "3  2011     1   1    3      1       0          0       1  9.84        75   \n",
       "4  2011     1   1    4      1       0          0       1  9.84        75   \n",
       "\n",
       "   windspeed  count  \n",
       "0        0.0     16  \n",
       "1        0.0     40  \n",
       "2        0.0     32  \n",
       "3        0.0     13  \n",
       "4        0.0      1  "
      ]
     },
     "execution_count": 131,
     "metadata": {},
     "output_type": "execute_result"
    }
   ],
   "source": [
    "df1.head()"
   ]
  },
  {
   "cell_type": "markdown",
   "id": "1e1f5a86",
   "metadata": {},
   "source": [
    "## Handing the Outliers"
   ]
  },
  {
   "cell_type": "code",
   "execution_count": 132,
   "id": "6895ec18",
   "metadata": {},
   "outputs": [
    {
     "data": {
      "image/png": "[encoded data removed]",
      "text/plain": [
       "<Figure size 432x288 with 1 Axes>"
      ]
     },
     "metadata": {
      "needs_background": "light"
     },
     "output_type": "display_data"
    }
   ],
   "source": [
    "# outlier detection\n",
    "ax = df1[df1.columns.values].plot(kind='box', title='boxplot')\n",
    "\n",
    "# Display the plot\n",
    "plt.show()                      # There are ouliers in the windspeed and total rentals variable."
   ]
  },
  {
   "cell_type": "code",
   "execution_count": 133,
   "id": "cb0daa24",
   "metadata": {},
   "outputs": [],
   "source": [
    "num_var=['temp','humidity','windspeed','count']"
   ]
  },
  {
   "cell_type": "code",
   "execution_count": 134,
   "id": "22f95220",
   "metadata": {},
   "outputs": [],
   "source": [
    "# eliminating ouliers with zscores technique (above 2 standard deviations all are considered as outliers)\n",
    "def outlier_treatment(column):\n",
    "    q_3=df1[column].quantile(0.75)\n",
    "    q_1=df1[column].quantile(0.25)\n",
    "    IQR=q_3-q_1\n",
    "    upper_limit=q_3+(1.5*IQR)\n",
    "    lower_limit=q_1-(1.5*IQR)\n",
    "    df1[column]=np.where(df1[column]>upper_limit,upper_limit,\n",
    "                               np.where(df1[column]<lower_limit,lower_limit,df1[column]))\n"
   ]
  },
  {
   "cell_type": "code",
   "execution_count": 135,
   "id": "2dfeadb9",
   "metadata": {},
   "outputs": [],
   "source": [
    "for i in num_var:\n",
    "    outlier_treatment(i)"
   ]
  },
  {
   "cell_type": "code",
   "execution_count": 136,
   "id": "5012c941",
   "metadata": {},
   "outputs": [
    {
     "data": {
      "image/png": "[encoded data removed]",
      "text/plain": [
       "<Figure size 432x288 with 1 Axes>"
      ]
     },
     "metadata": {
      "needs_background": "light"
     },
     "output_type": "display_data"
    }
   ],
   "source": [
    "# outlier detection\n",
    "ax = df1[num_var].plot(kind='box', title='boxplot')\n",
    "\n",
    "# Display the plot\n",
    "plt.show()"
   ]
  },
  {
   "cell_type": "code",
   "execution_count": 137,
   "id": "2843e864",
   "metadata": {},
   "outputs": [],
   "source": [
    "x=df1.drop(columns=['count'])\n",
    "y=df1['count']"
   ]
  },
  {
   "cell_type": "code",
   "execution_count": 138,
   "id": "3a4f57bc",
   "metadata": {},
   "outputs": [],
   "source": [
    "from sklearn.model_selection import train_test_split\n",
    "x_train, x_val, y_train, y_val = train_test_split( x, y, test_size=0.2, random_state=42)"
   ]
  },
  {
   "cell_type": "code",
   "execution_count": 139,
   "id": "b0076005",
   "metadata": {},
   "outputs": [
    {
     "name": "stdout",
     "output_type": "stream",
     "text": [
      "(8708, 11)\n",
      "(8708,)\n",
      "(2178, 11)\n",
      "(2178,)\n"
     ]
    }
   ],
   "source": [
    "print(x_train.shape)\n",
    "print(y_train.shape)\n",
    "print(x_val.shape)\n",
    "print(y_val.shape)"
   ]
  },
  {
   "cell_type": "code",
   "execution_count": 142,
   "id": "46bae617",
   "metadata": {},
   "outputs": [],
   "source": [
    "dft=dft.drop(columns=['atemp'])"
   ]
  },
  {
   "cell_type": "code",
   "execution_count": 143,
   "id": "a4281dd5",
   "metadata": {},
   "outputs": [
    {
     "data": {
      "text/plain": [
       "(6493, 11)"
      ]
     },
     "execution_count": 143,
     "metadata": {},
     "output_type": "execute_result"
    }
   ],
   "source": [
    "x_test=dft.copy()\n",
    "x_test.shape"
   ]
  },
  {
   "cell_type": "markdown",
   "id": "81379495",
   "metadata": {},
   "source": [
    "### Performing standardization"
   ]
  },
  {
   "cell_type": "code",
   "execution_count": 144,
   "id": "48d84586",
   "metadata": {},
   "outputs": [],
   "source": [
    "from sklearn.preprocessing import StandardScaler"
   ]
  },
  {
   "cell_type": "code",
   "execution_count": 145,
   "id": "82ce6fa3",
   "metadata": {},
   "outputs": [],
   "source": [
    "scaler=StandardScaler()\n",
    "x_train_std=scaler.fit_transform(x_train)\n",
    "x_val_std=scaler.transform(x_val)\n",
    "x_test_std=scaler.transform(x_test)"
   ]
  },
  {
   "cell_type": "code",
   "execution_count": 146,
   "id": "0beca9e5",
   "metadata": {},
   "outputs": [],
   "source": [
    "x_train1=pd.DataFrame(x_train_std,columns=x_train.columns)\n",
    "x_val1=pd.DataFrame(x_val_std,columns=x_val.columns)\n",
    "x_test1=pd.DataFrame(x_test_std,columns=x_test.columns)"
   ]
  },
  {
   "cell_type": "code",
   "execution_count": 147,
   "id": "3bc76058",
   "metadata": {},
   "outputs": [
    {
     "data": {
      "text/html": [
       "<div>\n",
       "<style scoped>\n",
       "    .dataframe tbody tr th:only-of-type {\n",
       "        vertical-align: middle;\n",
       "    }\n",
       "\n",
       "    .dataframe tbody tr th {\n",
       "        vertical-align: top;\n",
       "    }\n",
       "\n",
       "    .dataframe thead th {\n",
       "        text-align: right;\n",
       "    }\n",
       "</style>\n",
       "<table border=\"1\" class=\"dataframe\">\n",
       "  <thead>\n",
       "    <tr style=\"text-align: right;\">\n",
       "      <th></th>\n",
       "      <th>year</th>\n",
       "      <th>month</th>\n",
       "      <th>day</th>\n",
       "      <th>hour</th>\n",
       "      <th>season</th>\n",
       "      <th>holiday</th>\n",
       "      <th>workingday</th>\n",
       "      <th>weather</th>\n",
       "      <th>temp</th>\n",
       "      <th>humidity</th>\n",
       "      <th>windspeed</th>\n",
       "    </tr>\n",
       "  </thead>\n",
       "  <tbody>\n",
       "    <tr>\n",
       "      <th>0</th>\n",
       "      <td>-1.003221</td>\n",
       "      <td>0.138224</td>\n",
       "      <td>-0.724466</td>\n",
       "      <td>-0.945962</td>\n",
       "      <td>0.441439</td>\n",
       "      <td>-0.173335</td>\n",
       "      <td>0.684445</td>\n",
       "      <td>-0.657286</td>\n",
       "      <td>0.977262</td>\n",
       "      <td>1.099082</td>\n",
       "      <td>-0.846541</td>\n",
       "    </tr>\n",
       "    <tr>\n",
       "      <th>1</th>\n",
       "      <td>0.996790</td>\n",
       "      <td>0.429385</td>\n",
       "      <td>-1.090408</td>\n",
       "      <td>0.643217</td>\n",
       "      <td>0.441439</td>\n",
       "      <td>-0.173335</td>\n",
       "      <td>-1.461037</td>\n",
       "      <td>-0.657286</td>\n",
       "      <td>2.135457</td>\n",
       "      <td>-1.183708</td>\n",
       "      <td>0.923888</td>\n",
       "    </tr>\n",
       "  </tbody>\n",
       "</table>\n",
       "</div>"
      ],
      "text/plain": [
       "       year     month       day      hour    season   holiday  workingday  \\\n",
       "0 -1.003221  0.138224 -0.724466 -0.945962  0.441439 -0.173335    0.684445   \n",
       "1  0.996790  0.429385 -1.090408  0.643217  0.441439 -0.173335   -1.461037   \n",
       "\n",
       "    weather      temp  humidity  windspeed  \n",
       "0 -0.657286  0.977262  1.099082  -0.846541  \n",
       "1 -0.657286  2.135457 -1.183708   0.923888  "
      ]
     },
     "execution_count": 147,
     "metadata": {},
     "output_type": "execute_result"
    }
   ],
   "source": [
    "x_train1.head(2)"
   ]
  },
  {
   "cell_type": "markdown",
   "id": "1443b414",
   "metadata": {},
   "source": [
    "# Model Building and Evaluation"
   ]
  },
  {
   "cell_type": "markdown",
   "id": "ca4ad002",
   "metadata": {},
   "source": [
    "## Decision Tree Regressor"
   ]
  },
  {
   "cell_type": "code",
   "execution_count": 148,
   "id": "7e4f19d2",
   "metadata": {},
   "outputs": [],
   "source": [
    "\n",
    "from sklearn.model_selection import KFold, cross_val_score, GridSearchCV\n",
    "from sklearn.tree import DecisionTreeRegressor\n",
    "#Decision Tree Regressor Object\n",
    "dtr = DecisionTreeRegressor()"
   ]
  },
  {
   "cell_type": "code",
   "execution_count": 78,
   "id": "21463b1a",
   "metadata": {},
   "outputs": [
    {
     "name": "stdout",
     "output_type": "stream",
     "text": [
      "Training_score:  0.9338385621043405\n",
      "Testing_score:  0.9124308936218036\n"
     ]
    }
   ],
   "source": [
    "#decision tree regressor with best parameters\n",
    "dtr = DecisionTreeRegressor(max_depth=13, min_samples_leaf=10, min_samples_split=23, random_state=42)\n",
    "\n",
    "#Fitting the model\n",
    "dtr.fit(x_train1, y_train)\n",
    "\n",
    "#Training score\n",
    "print('Training_score: ',dtr.score(x_train1, y_train))\n",
    "print('Testing_score: ',dtr.score(x_val1, y_val))"
   ]
  },
  {
   "cell_type": "code",
   "execution_count": 79,
   "id": "cf44ac77",
   "metadata": {},
   "outputs": [],
   "source": [
    "#Prediction\n",
    "dtr_predt = dtr.predict(x_test1)\n",
    "dtr_predv = dtr.predict(x_val1)\n"
   ]
  },
  {
   "cell_type": "markdown",
   "id": "da50c918",
   "metadata": {},
   "source": [
    "## Random Forest Regressor"
   ]
  },
  {
   "cell_type": "code",
   "execution_count": 80,
   "id": "3983ea10",
   "metadata": {},
   "outputs": [],
   "source": [
    "from sklearn.ensemble import RandomForestRegressor\n",
    "#Random Forest Regressor Object\n",
    "rfr = RandomForestRegressor()"
   ]
  },
  {
   "cell_type": "code",
   "execution_count": 81,
   "id": "ddf52ab7",
   "metadata": {},
   "outputs": [
    {
     "name": "stdout",
     "output_type": "stream",
     "text": [
      "Fitting 5 folds for each of 48 candidates, totalling 240 fits\n",
      "{'max_depth': 16, 'min_samples_leaf': 2, 'min_samples_split': 5}\n"
     ]
    }
   ],
   "source": [
    "from sklearn.model_selection import GridSearchCV\n",
    "\n",
    "#parameters for grid search\n",
    "para = {\n",
    "    'max_depth' : [14,15,16,18],\n",
    "    'min_samples_leaf' : [2,3,4,5],\n",
    "    'min_samples_split' : [5,6,7],\n",
    "   \n",
    "}\n",
    "\n",
    "#Grid Search Object\n",
    "grid = GridSearchCV(estimator=rfr, param_grid=para, cv=5, n_jobs=-1, verbose=2)\n",
    "\n",
    "#Fitting the model\n",
    "grid.fit(x_train1, y_train)\n",
    "\n",
    "#Best parameters\n",
    "print(grid.best_params_)"
   ]
  },
  {
   "cell_type": "code",
   "execution_count": 83,
   "id": "a2b79752",
   "metadata": {},
   "outputs": [
    {
     "name": "stdout",
     "output_type": "stream",
     "text": [
      "Training_score:  0.9810373129292712\n",
      "Testing_score:  0.9451315769362543\n"
     ]
    }
   ],
   "source": [
    "#Random Forest Regressor with best parameters\n",
    "rfr = RandomForestRegressor(max_depth=16, min_samples_leaf=2, min_samples_split=5, random_state=42)\n",
    "\n",
    "#Fitting the model\n",
    "rfr.fit(x_train1, y_train)\n",
    "\n",
    "print('Training_score: ',rfr.score(x_train1, y_train))\n",
    "print('Testing_score: ',rfr.score(x_val1, y_val))"
   ]
  },
  {
   "cell_type": "code",
   "execution_count": 84,
   "id": "bb2caf89",
   "metadata": {},
   "outputs": [],
   "source": [
    "#Prediction\n",
    "rfr_predt = rfr.predict(x_test1)\n",
    "rfr_predv = rfr.predict(x_val1)"
   ]
  },
  {
   "cell_type": "markdown",
   "id": "9d63483c",
   "metadata": {},
   "source": [
    "## Comparing the two models"
   ]
  },
  {
   "cell_type": "code",
   "execution_count": 85,
   "id": "224b656d",
   "metadata": {},
   "outputs": [
    {
     "data": {
      "text/plain": [
       "<matplotlib.legend.Legend at 0x24b6e4dc0a0>"
      ]
     },
     "execution_count": 85,
     "metadata": {},
     "output_type": "execute_result"
    },
    {
     "data": {
      "image/png": "[encoded data removed]",
      "text/plain": [
       "<Figure size 1080x360 with 2 Axes>"
      ]
     },
     "metadata": {
      "needs_background": "light"
     },
     "output_type": "display_data"
    }
   ],
   "source": [
    "fig,ax = plt.subplots(1,2,figsize=(15,5))\n",
    "\n",
    "#decision tree regressor\n",
    "sns.distplot(x = y_val, ax = ax[0], color = 'r', hist = False, label = 'Actual').set_title('Decision Tree Regressor')\n",
    "sns.distplot(x = dtr_predv, ax = ax[0], color = 'b', hist = False, label = 'Predicted')\n",
    "ax[0].legend()\n",
    "\n",
    "#random forest regressor\n",
    "sns.distplot(x = y_val, ax = ax[1], color = 'r', hist = False, label = 'Actual').set_title('Random Forest Regressor')\n",
    "sns.distplot(x = rfr_predv, ax = ax[1], color = 'b', hist = False, label = 'Predicted')\n",
    "ax[1].legend()"
   ]
  },
  {
   "cell_type": "markdown",
   "id": "cc1d4f3c",
   "metadata": {},
   "source": [
    "The difference between actual and predicted values with Random forest is much lesser than with Decision Tree."
   ]
  },
  {
   "cell_type": "markdown",
   "id": "188b772a",
   "metadata": {},
   "source": [
    "## Model Evaluation"
   ]
  },
  {
   "cell_type": "code",
   "execution_count": 86,
   "id": "1de0333d",
   "metadata": {},
   "outputs": [
    {
     "name": "stdout",
     "output_type": "stream",
     "text": [
      "Decision Tree Regressor\n",
      "Mean Squared Error :  2612.483347210209\n",
      "Mean Absolute Error :  31.79586889645967\n",
      "R2 Score :  0.9124308936218036\n",
      "Random Forest Regressor\n",
      "Mean Squared Error :  1636.9110919397363\n",
      "Mean Absolute Error :  25.86081350900563\n",
      "R2 Score :  0.9451315769362543\n"
     ]
    }
   ],
   "source": [
    "from sklearn.metrics import mean_squared_error, mean_absolute_error, r2_score\n",
    "\n",
    "#Decision Tree Regressor\n",
    "print('Decision Tree Regressor')\n",
    "print('Mean Squared Error : ', mean_squared_error(y_val, dtr_predv))\n",
    "print('Mean Absolute Error : ', mean_absolute_error(y_val, dtr_predv))\n",
    "print('R2 Score : ', r2_score(y_val, dtr_predv))\n",
    "\n",
    "#Random Forest Regressor\n",
    "print('Random Forest Regressor')\n",
    "print('Mean Squared Error : ', mean_squared_error(y_val, rfr_predv))\n",
    "print('Mean Absolute Error : ', mean_absolute_error(y_val, rfr_predv))\n",
    "print('R2 Score : ', r2_score(y_val, rfr_predv))"
   ]
  },
  {
   "cell_type": "markdown",
   "id": "b7f64987",
   "metadata": {},
   "source": [
    "The Random Forest Regressor is performing better than the Decision Tree Regressor based on the evaluation metrics (lower MSE, MAE, and higher R²). so Random Forest Regressor will be the preffered model for predicting bike rentals."
   ]
  },
  {
   "cell_type": "markdown",
   "id": "e2135937",
   "metadata": {},
   "source": [
    "## Feature Importance"
   ]
  },
  {
   "cell_type": "code",
   "execution_count": 87,
   "id": "5a80ac3b",
   "metadata": {},
   "outputs": [
    {
     "data": {
      "text/plain": [
       "Text(0.5, 1.0, 'Random Forest Regressor')"
      ]
     },
     "execution_count": 87,
     "metadata": {},
     "output_type": "execute_result"
    },
    {
     "data": {
      "image/png": "[encoded data removed]",
      "text/plain": [
       "<Figure size 1080x360 with 2 Axes>"
      ]
     },
     "metadata": {
      "needs_background": "light"
     },
     "output_type": "display_data"
    }
   ],
   "source": [
    "fig, ax = plt.subplots(1,2,figsize=(15, 5))\n",
    "fig.subplots_adjust(wspace=0.5)\n",
    "\n",
    "#Decision Tree Regressor\n",
    "feature_df = pd.DataFrame({'Features':x_train1.columns, 'Importance':dtr.feature_importances_})\n",
    "feature_df.sort_values(by='Importance', ascending=False, inplace=True)\n",
    "sns.barplot(x = 'Importance', y = 'Features', data = feature_df, ax = ax[0]).set_title('Decision Tree Regressor')\n",
    "\n",
    "#Random Forest Regressor\n",
    "feature_df = pd.DataFrame({'Features':x_train1.columns, 'Importance':rfr.feature_importances_})\n",
    "feature_df.sort_values(by='Importance', ascending=False, inplace=True)\n",
    "sns.barplot(x = 'Importance', y = 'Features', data = feature_df, ax = ax[1]).set_title('Random Forest Regressor')"
   ]
  },
  {
   "cell_type": "markdown",
   "id": "18ae3eca",
   "metadata": {},
   "source": [
    "Hour of the day is playing a crucial role in building the best model."
   ]
  }
 ],
 "metadata": {
  "kernelspec": {
   "display_name": "Python 3",
   "language": "python",
   "name": "python3"
  },
  "language_info": {
   "codemirror_mode": {
    "name": "ipython",
    "version": 3
   },
   "file_extension": ".py",
   "mimetype": "text/x-python",
   "name": "python",
   "nbconvert_exporter": "python",
   "pygments_lexer": "ipython3",
   "version": "3.8.8"
  }
 },
 "nbformat": 4,
 "nbformat_minor": 5
}
